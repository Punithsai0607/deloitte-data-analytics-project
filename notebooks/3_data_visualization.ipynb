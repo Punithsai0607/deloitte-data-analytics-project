{
 "cells": [
  {
   "cell_type": "code",
   "execution_count": null,
   "id": "09d605ed",
   "metadata": {},
   "outputs": [],
   "source": [
    "# Cell 1: Import Libraries\n",
    "import pandas as pd\n",
    "import matplotlib.pyplot as plt\n",
    "import seaborn as sns\n",
    "\n",
    "# Cell 2: Load the Cleaned Dataset\n",
    "df = pd.read_csv('../data/cleaned_dataset.csv')\n",
    "\n",
    "# Cell 3: Set Visualization Style\n",
    "sns.set_style(\"whitegrid\")\n",
    "\n",
    "# Cell 4: Visualization 1 - Total Revenue by State\n",
    "plt.figure(figsize=(10, 6))\n",
    "sns.barplot(x=df.groupby('state')['revenue'].sum().index, y=df.groupby('state')['revenue'].sum().values)\n",
    "plt.title('Total Revenue by State', fontsize=16)\n",
    "plt.xlabel('State', fontsize=12)\n",
    "plt.ylabel('Total Revenue ($)', fontsize=12)\n",
    "plt.show()\n",
    "\n",
    "# Cell 5: Visualization 2 - Revenue by Product Category\n",
    "plt.figure(figsize=(10, 6))\n",
    "sns.barplot(x=df.groupby('product_category')['revenue'].sum().index, y=df.groupby('product_category')['revenue'].sum().values)\n",
    "plt.title('Total Revenue by Product Category', fontsize=16)\n",
    "plt.xlabel('Product Category', fontsize=12)\n",
    "plt.ylabel('Total Revenue ($)', fontsize=12)\n",
    "plt.show()\n",
    "\n",
    "# Cell 6: Visualization 3 - Distribution of Customer Ages\n",
    "plt.figure(figsize=(10, 6))\n",
    "sns.histplot(df['age'], bins=10, kde=True)\n",
    "plt.title('Distribution of Customer Ages', fontsize=16)\n",
    "plt.xlabel('Age', fontsize=12)\n",
    "plt.ylabel('Number of Customers', fontsize=12)\n",
    "plt.show()"
   ]
  }
 ],
 "metadata": {
  "language_info": {
   "name": "python"
  }
 },
 "nbformat": 4,
 "nbformat_minor": 5
}
