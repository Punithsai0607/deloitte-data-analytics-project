{
 "cells": [
  {
   "cell_type": "code",
   "execution_count": 1,
   "id": "e3446a8b",
   "metadata": {},
   "outputs": [
    {
     "ename": "ModuleNotFoundError",
     "evalue": "No module named 'pandas'",
     "output_type": "error",
     "traceback": [
      "\u001b[31m---------------------------------------------------------------------------\u001b[39m",
      "\u001b[31mModuleNotFoundError\u001b[39m                       Traceback (most recent call last)",
      "\u001b[36mCell\u001b[39m\u001b[36m \u001b[39m\u001b[32mIn[1]\u001b[39m\u001b[32m, line 2\u001b[39m\n\u001b[32m      1\u001b[39m \u001b[38;5;66;03m# Cell 1: Import Libraries\u001b[39;00m\n\u001b[32m----> \u001b[39m\u001b[32m2\u001b[39m \u001b[38;5;28;01mimport\u001b[39;00m\u001b[38;5;250m \u001b[39m\u001b[34;01mpandas\u001b[39;00m\u001b[38;5;250m \u001b[39m\u001b[38;5;28;01mas\u001b[39;00m\u001b[38;5;250m \u001b[39m\u001b[34;01mpd\u001b[39;00m\n\u001b[32m      4\u001b[39m \u001b[38;5;66;03m# Cell 2: Load the Cleaned Dataset\u001b[39;00m\n\u001b[32m      5\u001b[39m df = pd.read_csv(\u001b[33m'\u001b[39m\u001b[33m../data/cleaned_dataset.csv\u001b[39m\u001b[33m'\u001b[39m)\n",
      "\u001b[31mModuleNotFoundError\u001b[39m: No module named 'pandas'"
     ]
    }
   ],
   "source": [
    "# Cell 1: Import Libraries\n",
    "import pandas as pd\n",
    "\n",
    "# Cell 2: Load the Cleaned Dataset\n",
    "df = pd.read_csv('../data/cleaned_dataset.csv')\n",
    "\n",
    "# Cell 3: Perform Exploratory Data Analysis (EDA)\n",
    "print(\"--- Basic Data Analysis ---\")\n",
    "\n",
    "# Total revenue by state\n",
    "revenue_by_state = df.groupby('state')['revenue'].sum().sort_values(ascending=False)\n",
    "print(\"\\nTotal Revenue by State:\")\n",
    "print(revenue_by_state)\n",
    "\n",
    "# Total revenue by product category\n",
    "revenue_by_category = df.groupby('product_category')['revenue'].sum().sort_values(ascending=False)\n",
    "print(\"\\nTotal Revenue by Product Category:\")\n",
    "print(revenue_by_category)\n",
    "\n",
    "# Cell 4: Identify High-Value Customers\n",
    "# A high-value customer can be defined as one with total spending above a certain threshold\n",
    "customer_spending = df.groupby('customer_id')['revenue'].sum().sort_values(ascending=False)\n",
    "print(\"\\nTotal Spending per Customer:\")\n",
    "print(customer_spending)\n",
    "\n",
    "# Define high-value customers as the top 3 spenders for this example\n",
    "high_value_customers = customer_spending.head(3)\n",
    "print(\"\\nIdentified High-Value Customers:\")\n",
    "print(high_value_customers)"
   ]
  }
 ],
 "metadata": {
  "kernelspec": {
   "display_name": "Python 3",
   "language": "python",
   "name": "python3"
  },
  "language_info": {
   "codemirror_mode": {
    "name": "ipython",
    "version": 3
   },
   "file_extension": ".py",
   "mimetype": "text/x-python",
   "name": "python",
   "nbconvert_exporter": "python",
   "pygments_lexer": "ipython3",
   "version": "3.13.5"
  }
 },
 "nbformat": 4,
 "nbformat_minor": 5
}
