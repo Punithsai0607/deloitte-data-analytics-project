{
 "cells": [
  {
   "cell_type": "code",
   "execution_count": 6,
   "id": "ce0bc0dd",
   "metadata": {},
   "outputs": [
    {
     "ename": "ModuleNotFoundError",
     "evalue": "No module named 'pandas'",
     "output_type": "error",
     "traceback": [
      "\u001b[31m---------------------------------------------------------------------------\u001b[39m",
      "\u001b[31mModuleNotFoundError\u001b[39m                       Traceback (most recent call last)",
      "\u001b[36mCell\u001b[39m\u001b[36m \u001b[39m\u001b[32mIn[6]\u001b[39m\u001b[32m, line 2\u001b[39m\n\u001b[32m      1\u001b[39m \u001b[38;5;66;03m# Cell 1: Import Libraries\u001b[39;00m\n\u001b[32m----> \u001b[39m\u001b[32m2\u001b[39m \u001b[38;5;28;01mimport\u001b[39;00m\u001b[38;5;250m \u001b[39m\u001b[34;01mpandas\u001b[39;00m\u001b[38;5;250m \u001b[39m\u001b[38;5;28;01mas\u001b[39;00m\u001b[38;5;250m \u001b[39m\u001b[34;01mpd\u001b[39;00m \u001b[38;5;66;03m# pyright: ignore[reportMissingModuleSource]\u001b[39;00m\n\u001b[32m      3\u001b[39m \u001b[38;5;28;01mimport\u001b[39;00m\u001b[38;5;250m \u001b[39m\u001b[34;01mnumpy\u001b[39;00m\u001b[38;5;250m \u001b[39m\u001b[38;5;28;01mas\u001b[39;00m\u001b[38;5;250m \u001b[39m\u001b[34;01mnp\u001b[39;00m\n\u001b[32m      5\u001b[39m \u001b[38;5;66;03m# Cell 2: Load the Dataset\u001b[39;00m\n\u001b[32m      6\u001b[39m \u001b[38;5;66;03m# We use '../' to go up one level from the 'notebooks' folder to the project root, then into 'data'\u001b[39;00m\n",
      "\u001b[31mModuleNotFoundError\u001b[39m: No module named 'pandas'"
     ]
    }
   ],
   "source": [
    "# Cell 1: Import Libraries\n",
    "import pandas as pd # pyright: ignore[reportMissingModuleSource]\n",
    "import numpy as np\n",
    "\n",
    "# Cell 2: Load the Dataset\n",
    "# We use '../' to go up one level from the 'notebooks' folder to the project root, then into 'data'\n",
    "df = pd.read_csv('../data/your_dataset.csv')\n",
    "\n",
    "# Cell 3: Initial Data Quality Assessment\n",
    "print(\"--- Initial Data Info ---\")\n",
    "df.info()\n",
    "print(\"\\n--- Missing Values Before Cleaning ---\")\n",
    "print(df.isnull().sum())\n",
    "print(\"\\n--- First 5 Rows ---\")\n",
    "print(df.head())\n",
    "\n",
    "# Cell 4: Clean the Data\n",
    "# Fill missing 'age' with the median age\n",
    "median_age = df['age'].median()\n",
    "df['age'].fillna(median_age, inplace=True)\n",
    "\n",
    "# Fill missing 'gender' with the mode (most frequent)\n",
    "mode_gender = df['gender'].mode()[0]\n",
    "df['gender'].fillna(mode_gender, inplace=True)\n",
    "\n",
    "# Convert 'transaction_date' to a proper datetime format\n",
    "df['transaction_date'] = pd.to_datetime(df['transaction_date'])\n",
    "\n",
    "# Cell 5: Verify the Cleaning\n",
    "print(\"\\n\\n--- Data Info After Cleaning ---\")\n",
    "df.info()\n",
    "print(\"\\n--- Missing Values After Cleaning ---\")\n",
    "print(df.isnull().sum())\n",
    "\n",
    "# Cell 6: Save the Cleaned Dataset\n",
    "# The cleaned data is saved back into the data folder for the next step\n",
    "df.to_csv('../data/cleaned_dataset.csv', index=False)\n",
    "print(\"\\nCleaned data saved to 'data/cleaned_dataset.csv'\")"
   ]
  },
  {
   "cell_type": "code",
   "execution_count": null,
   "id": "63c14a72",
   "metadata": {},
   "outputs": [],
   "source": []
  }
 ],
 "metadata": {
  "kernelspec": {
   "display_name": "Python 3",
   "language": "python",
   "name": "python3"
  },
  "language_info": {
   "codemirror_mode": {
    "name": "ipython",
    "version": 3
   },
   "file_extension": ".py",
   "mimetype": "text/x-python",
   "name": "python",
   "nbconvert_exporter": "python",
   "pygments_lexer": "ipython3",
   "version": "3.13.5"
  }
 },
 "nbformat": 4,
 "nbformat_minor": 5
}
